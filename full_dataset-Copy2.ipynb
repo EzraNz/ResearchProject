{
 "cells": [
  {
   "cell_type": "code",
   "execution_count": 1,
   "id": "99b5689d",
   "metadata": {},
   "outputs": [],
   "source": [
    "# Load libraries\n",
    "from pandas import read_csv\n",
    "from pandas.plotting import scatter_matrix\n",
    "from matplotlib import pyplot\n",
    "from sklearn.model_selection import train_test_split\n",
    "from sklearn.model_selection import cross_val_score\n",
    "from sklearn.model_selection import StratifiedKFold\n",
    "from sklearn.metrics import classification_report\n",
    "from sklearn.metrics import confusion_matrix\n",
    "from sklearn.metrics import accuracy_score\n",
    "from sklearn.linear_model import LogisticRegression\n",
    "from sklearn.tree import DecisionTreeClassifier\n",
    "from sklearn.neighbors import KNeighborsClassifier\n",
    "from sklearn.discriminant_analysis import LinearDiscriminantAnalysis\n",
    "from sklearn.naive_bayes import GaussianNB\n",
    "from sklearn.svm import SVC\n",
    "from sklearn.ensemble import RandomForestClassifier\n",
    "import numpy as np\n",
    "import pandas as pd\n",
    "import math\n",
    "import sys\n",
    "from scipy.stats import spearmanr\n",
    "\n",
    "# explicitly require this experimental feature\n",
    "from sklearn.experimental import enable_iterative_imputer\n",
    "# now you can import normally from sklearn.impute\n",
    "from sklearn.impute import IterativeImputer\n",
    "impIterative = IterativeImputer(missing_values=np.nan, sample_posterior=True, imputation_order='random')\n",
    "\n",
    "from sklearn.metrics import plot_confusion_matrix\n",
    "import matplotlib.pyplot as plt"
   ]
  },
  {
   "cell_type": "code",
   "execution_count": 2,
   "id": "d8307f4b",
   "metadata": {},
   "outputs": [
    {
     "name": "stdout",
     "output_type": "stream",
     "text": [
      "Elapsed Time: 17.04186773300171 seconds\n"
     ]
    }
   ],
   "source": [
    "import time\n",
    "start = time.time()\n",
    "full_dataset = pd.read_pickle(\"./full_dataset.pkl\")\n",
    "end = time.time()\n",
    "print(f'Elapsed Time: {(end-start)} seconds')"
   ]
  },
  {
   "cell_type": "code",
   "execution_count": 3,
   "id": "afd24196",
   "metadata": {
    "scrolled": false
   },
   "outputs": [
    {
     "data": {
      "text/html": [
       "<div>\n",
       "<style scoped>\n",
       "    .dataframe tbody tr th:only-of-type {\n",
       "        vertical-align: middle;\n",
       "    }\n",
       "\n",
       "    .dataframe tbody tr th {\n",
       "        vertical-align: top;\n",
       "    }\n",
       "\n",
       "    .dataframe thead th {\n",
       "        text-align: right;\n",
       "    }\n",
       "</style>\n",
       "<table border=\"1\" class=\"dataframe\">\n",
       "  <thead>\n",
       "    <tr style=\"text-align: right;\">\n",
       "      <th></th>\n",
       "      <th>CHILDID</th>\n",
       "      <th>PARENTID</th>\n",
       "      <th>S1_ID</th>\n",
       "      <th>S2_ID</th>\n",
       "      <th>S3_ID</th>\n",
       "      <th>S4_ID</th>\n",
       "      <th>S5_ST_ID</th>\n",
       "      <th>S5_ID</th>\n",
       "      <th>S6_ST_ID</th>\n",
       "      <th>S6_ID</th>\n",
       "      <th>...</th>\n",
       "      <th>C7CPTS81</th>\n",
       "      <th>C7CPTS82</th>\n",
       "      <th>C7CPTS83</th>\n",
       "      <th>C7CPTS84</th>\n",
       "      <th>C7CPTS85</th>\n",
       "      <th>C7CPTS86</th>\n",
       "      <th>C7CPTS87</th>\n",
       "      <th>C7CPTS88</th>\n",
       "      <th>C7CPTS89</th>\n",
       "      <th>C7CPTS90</th>\n",
       "    </tr>\n",
       "  </thead>\n",
       "  <tbody>\n",
       "    <tr>\n",
       "      <th>0</th>\n",
       "      <td>0001001C</td>\n",
       "      <td>0001001P</td>\n",
       "      <td>1.0</td>\n",
       "      <td>1.0</td>\n",
       "      <td>NaN</td>\n",
       "      <td>2.0</td>\n",
       "      <td>NaN</td>\n",
       "      <td>NaN</td>\n",
       "      <td>NaN</td>\n",
       "      <td>NaN</td>\n",
       "      <td>...</td>\n",
       "      <td>NaN</td>\n",
       "      <td>NaN</td>\n",
       "      <td>NaN</td>\n",
       "      <td>NaN</td>\n",
       "      <td>NaN</td>\n",
       "      <td>NaN</td>\n",
       "      <td>NaN</td>\n",
       "      <td>NaN</td>\n",
       "      <td>NaN</td>\n",
       "      <td>NaN</td>\n",
       "    </tr>\n",
       "    <tr>\n",
       "      <th>1</th>\n",
       "      <td>0001002C</td>\n",
       "      <td>0001002P</td>\n",
       "      <td>1.0</td>\n",
       "      <td>1.0</td>\n",
       "      <td>NaN</td>\n",
       "      <td>6005.0</td>\n",
       "      <td>6005.0</td>\n",
       "      <td>6005.0</td>\n",
       "      <td>6005.0</td>\n",
       "      <td>A053</td>\n",
       "      <td>...</td>\n",
       "      <td>2704.86</td>\n",
       "      <td>2681.98</td>\n",
       "      <td>2700.63</td>\n",
       "      <td>2697.53</td>\n",
       "      <td>2692.50</td>\n",
       "      <td>2665.01</td>\n",
       "      <td>2844.28</td>\n",
       "      <td>2665.86</td>\n",
       "      <td>2764.51</td>\n",
       "      <td>2720.46</td>\n",
       "    </tr>\n",
       "    <tr>\n",
       "      <th>2</th>\n",
       "      <td>0001003C</td>\n",
       "      <td>0001003P</td>\n",
       "      <td>1.0</td>\n",
       "      <td>1.0</td>\n",
       "      <td>NaN</td>\n",
       "      <td>9997.0</td>\n",
       "      <td>9997.0</td>\n",
       "      <td>9997.0</td>\n",
       "      <td>NaN</td>\n",
       "      <td>NaN</td>\n",
       "      <td>...</td>\n",
       "      <td>NaN</td>\n",
       "      <td>NaN</td>\n",
       "      <td>NaN</td>\n",
       "      <td>NaN</td>\n",
       "      <td>NaN</td>\n",
       "      <td>NaN</td>\n",
       "      <td>NaN</td>\n",
       "      <td>NaN</td>\n",
       "      <td>NaN</td>\n",
       "      <td>NaN</td>\n",
       "    </tr>\n",
       "    <tr>\n",
       "      <th>3</th>\n",
       "      <td>0001004C</td>\n",
       "      <td>0001004P</td>\n",
       "      <td>1.0</td>\n",
       "      <td>1.0</td>\n",
       "      <td>NaN</td>\n",
       "      <td>6009.0</td>\n",
       "      <td>6009.0</td>\n",
       "      <td>6009.0</td>\n",
       "      <td>NaN</td>\n",
       "      <td>NaN</td>\n",
       "      <td>...</td>\n",
       "      <td>NaN</td>\n",
       "      <td>NaN</td>\n",
       "      <td>NaN</td>\n",
       "      <td>NaN</td>\n",
       "      <td>NaN</td>\n",
       "      <td>NaN</td>\n",
       "      <td>NaN</td>\n",
       "      <td>NaN</td>\n",
       "      <td>NaN</td>\n",
       "      <td>NaN</td>\n",
       "    </tr>\n",
       "    <tr>\n",
       "      <th>4</th>\n",
       "      <td>0001005C</td>\n",
       "      <td>0001005P</td>\n",
       "      <td>1.0</td>\n",
       "      <td>1.0</td>\n",
       "      <td>NaN</td>\n",
       "      <td>3.0</td>\n",
       "      <td>7197.0</td>\n",
       "      <td>7197.0</td>\n",
       "      <td>NaN</td>\n",
       "      <td>NaN</td>\n",
       "      <td>...</td>\n",
       "      <td>NaN</td>\n",
       "      <td>NaN</td>\n",
       "      <td>NaN</td>\n",
       "      <td>NaN</td>\n",
       "      <td>NaN</td>\n",
       "      <td>NaN</td>\n",
       "      <td>NaN</td>\n",
       "      <td>NaN</td>\n",
       "      <td>NaN</td>\n",
       "      <td>NaN</td>\n",
       "    </tr>\n",
       "    <tr>\n",
       "      <th>...</th>\n",
       "      <td>...</td>\n",
       "      <td>...</td>\n",
       "      <td>...</td>\n",
       "      <td>...</td>\n",
       "      <td>...</td>\n",
       "      <td>...</td>\n",
       "      <td>...</td>\n",
       "      <td>...</td>\n",
       "      <td>...</td>\n",
       "      <td>...</td>\n",
       "      <td>...</td>\n",
       "      <td>...</td>\n",
       "      <td>...</td>\n",
       "      <td>...</td>\n",
       "      <td>...</td>\n",
       "      <td>...</td>\n",
       "      <td>...</td>\n",
       "      <td>...</td>\n",
       "      <td>...</td>\n",
       "      <td>...</td>\n",
       "      <td>...</td>\n",
       "    </tr>\n",
       "    <tr>\n",
       "      <th>21404</th>\n",
       "      <td>3116024C</td>\n",
       "      <td>3116024P</td>\n",
       "      <td>3116.0</td>\n",
       "      <td>3116.0</td>\n",
       "      <td>NaN</td>\n",
       "      <td>3116.0</td>\n",
       "      <td>7294.0</td>\n",
       "      <td>7294.0</td>\n",
       "      <td>7294.0</td>\n",
       "      <td>3116</td>\n",
       "      <td>...</td>\n",
       "      <td>NaN</td>\n",
       "      <td>NaN</td>\n",
       "      <td>NaN</td>\n",
       "      <td>NaN</td>\n",
       "      <td>NaN</td>\n",
       "      <td>NaN</td>\n",
       "      <td>NaN</td>\n",
       "      <td>NaN</td>\n",
       "      <td>NaN</td>\n",
       "      <td>NaN</td>\n",
       "    </tr>\n",
       "    <tr>\n",
       "      <th>21405</th>\n",
       "      <td>5213040C</td>\n",
       "      <td>5213040P</td>\n",
       "      <td>NaN</td>\n",
       "      <td>NaN</td>\n",
       "      <td>NaN</td>\n",
       "      <td>5213.0</td>\n",
       "      <td>NaN</td>\n",
       "      <td>NaN</td>\n",
       "      <td>NaN</td>\n",
       "      <td>NaN</td>\n",
       "      <td>...</td>\n",
       "      <td>NaN</td>\n",
       "      <td>NaN</td>\n",
       "      <td>NaN</td>\n",
       "      <td>NaN</td>\n",
       "      <td>NaN</td>\n",
       "      <td>NaN</td>\n",
       "      <td>NaN</td>\n",
       "      <td>NaN</td>\n",
       "      <td>NaN</td>\n",
       "      <td>NaN</td>\n",
       "    </tr>\n",
       "    <tr>\n",
       "      <th>21406</th>\n",
       "      <td>5245040C</td>\n",
       "      <td>5245040P</td>\n",
       "      <td>NaN</td>\n",
       "      <td>NaN</td>\n",
       "      <td>NaN</td>\n",
       "      <td>5245.0</td>\n",
       "      <td>5245.0</td>\n",
       "      <td>5245.0</td>\n",
       "      <td>NaN</td>\n",
       "      <td>NaN</td>\n",
       "      <td>...</td>\n",
       "      <td>NaN</td>\n",
       "      <td>NaN</td>\n",
       "      <td>NaN</td>\n",
       "      <td>NaN</td>\n",
       "      <td>NaN</td>\n",
       "      <td>NaN</td>\n",
       "      <td>NaN</td>\n",
       "      <td>NaN</td>\n",
       "      <td>NaN</td>\n",
       "      <td>NaN</td>\n",
       "    </tr>\n",
       "    <tr>\n",
       "      <th>21407</th>\n",
       "      <td>5245041C</td>\n",
       "      <td>5245041P</td>\n",
       "      <td>NaN</td>\n",
       "      <td>NaN</td>\n",
       "      <td>NaN</td>\n",
       "      <td>5245.0</td>\n",
       "      <td>5245.0</td>\n",
       "      <td>5245.0</td>\n",
       "      <td>5245.0</td>\n",
       "      <td>A290</td>\n",
       "      <td>...</td>\n",
       "      <td>0.00</td>\n",
       "      <td>0.00</td>\n",
       "      <td>0.00</td>\n",
       "      <td>0.00</td>\n",
       "      <td>0.00</td>\n",
       "      <td>0.00</td>\n",
       "      <td>0.00</td>\n",
       "      <td>0.00</td>\n",
       "      <td>0.00</td>\n",
       "      <td>0.00</td>\n",
       "    </tr>\n",
       "    <tr>\n",
       "      <th>21408</th>\n",
       "      <td>5245042C</td>\n",
       "      <td>5245042P</td>\n",
       "      <td>NaN</td>\n",
       "      <td>NaN</td>\n",
       "      <td>NaN</td>\n",
       "      <td>5245.0</td>\n",
       "      <td>5245.0</td>\n",
       "      <td>5245.0</td>\n",
       "      <td>5245.0</td>\n",
       "      <td>A290</td>\n",
       "      <td>...</td>\n",
       "      <td>4180.85</td>\n",
       "      <td>4120.55</td>\n",
       "      <td>3982.06</td>\n",
       "      <td>4117.00</td>\n",
       "      <td>3376.18</td>\n",
       "      <td>3864.04</td>\n",
       "      <td>3884.41</td>\n",
       "      <td>4266.26</td>\n",
       "      <td>4063.49</td>\n",
       "      <td>4155.80</td>\n",
       "    </tr>\n",
       "  </tbody>\n",
       "</table>\n",
       "<p>21409 rows × 18928 columns</p>\n",
       "</div>"
      ],
      "text/plain": [
       "        CHILDID  PARENTID   S1_ID   S2_ID  S3_ID   S4_ID  S5_ST_ID   S5_ID  \\\n",
       "0      0001001C  0001001P     1.0     1.0    NaN     2.0       NaN     NaN   \n",
       "1      0001002C  0001002P     1.0     1.0    NaN  6005.0    6005.0  6005.0   \n",
       "2      0001003C  0001003P     1.0     1.0    NaN  9997.0    9997.0  9997.0   \n",
       "3      0001004C  0001004P     1.0     1.0    NaN  6009.0    6009.0  6009.0   \n",
       "4      0001005C  0001005P     1.0     1.0    NaN     3.0    7197.0  7197.0   \n",
       "...         ...       ...     ...     ...    ...     ...       ...     ...   \n",
       "21404  3116024C  3116024P  3116.0  3116.0    NaN  3116.0    7294.0  7294.0   \n",
       "21405  5213040C  5213040P     NaN     NaN    NaN  5213.0       NaN     NaN   \n",
       "21406  5245040C  5245040P     NaN     NaN    NaN  5245.0    5245.0  5245.0   \n",
       "21407  5245041C  5245041P     NaN     NaN    NaN  5245.0    5245.0  5245.0   \n",
       "21408  5245042C  5245042P     NaN     NaN    NaN  5245.0    5245.0  5245.0   \n",
       "\n",
       "       S6_ST_ID S6_ID  ... C7CPTS81 C7CPTS82 C7CPTS83 C7CPTS84 C7CPTS85  \\\n",
       "0           NaN   NaN  ...      NaN      NaN      NaN      NaN      NaN   \n",
       "1        6005.0  A053  ...  2704.86  2681.98  2700.63  2697.53  2692.50   \n",
       "2           NaN   NaN  ...      NaN      NaN      NaN      NaN      NaN   \n",
       "3           NaN   NaN  ...      NaN      NaN      NaN      NaN      NaN   \n",
       "4           NaN   NaN  ...      NaN      NaN      NaN      NaN      NaN   \n",
       "...         ...   ...  ...      ...      ...      ...      ...      ...   \n",
       "21404    7294.0  3116  ...      NaN      NaN      NaN      NaN      NaN   \n",
       "21405       NaN   NaN  ...      NaN      NaN      NaN      NaN      NaN   \n",
       "21406       NaN   NaN  ...      NaN      NaN      NaN      NaN      NaN   \n",
       "21407    5245.0  A290  ...     0.00     0.00     0.00     0.00     0.00   \n",
       "21408    5245.0  A290  ...  4180.85  4120.55  3982.06  4117.00  3376.18   \n",
       "\n",
       "       C7CPTS86  C7CPTS87  C7CPTS88  C7CPTS89  C7CPTS90  \n",
       "0           NaN       NaN       NaN       NaN       NaN  \n",
       "1       2665.01   2844.28   2665.86   2764.51   2720.46  \n",
       "2           NaN       NaN       NaN       NaN       NaN  \n",
       "3           NaN       NaN       NaN       NaN       NaN  \n",
       "4           NaN       NaN       NaN       NaN       NaN  \n",
       "...         ...       ...       ...       ...       ...  \n",
       "21404       NaN       NaN       NaN       NaN       NaN  \n",
       "21405       NaN       NaN       NaN       NaN       NaN  \n",
       "21406       NaN       NaN       NaN       NaN       NaN  \n",
       "21407      0.00      0.00      0.00      0.00      0.00  \n",
       "21408   3864.04   3884.41   4266.26   4063.49   4155.80  \n",
       "\n",
       "[21409 rows x 18928 columns]"
      ]
     },
     "execution_count": 3,
     "metadata": {},
     "output_type": "execute_result"
    }
   ],
   "source": [
    "full_dataset"
   ]
  },
  {
   "cell_type": "markdown",
   "id": "14853b61",
   "metadata": {},
   "source": [
    "## Determining the Best Y-Variable"
   ]
  },
  {
   "cell_type": "code",
   "execution_count": 4,
   "id": "53c1d3f5",
   "metadata": {},
   "outputs": [],
   "source": [
    "new_dataset = full_dataset.copy()"
   ]
  },
  {
   "cell_type": "code",
   "execution_count": 5,
   "id": "f9a5b6e4",
   "metadata": {
    "scrolled": true
   },
   "outputs": [],
   "source": [
    "dtypes = new_dataset.dtypes\n",
    "columns = new_dataset.columns"
   ]
  },
  {
   "cell_type": "code",
   "execution_count": 6,
   "id": "ed3f88e0",
   "metadata": {
    "scrolled": false
   },
   "outputs": [],
   "source": [
    "for c in columns:\n",
    "    if (str(dtypes[c]) != 'float64'):\n",
    "        new_dataset = new_dataset.drop(labels=c, axis=1)"
   ]
  },
  {
   "cell_type": "code",
   "execution_count": 7,
   "id": "eb4d727e",
   "metadata": {
    "scrolled": false
   },
   "outputs": [
    {
     "data": {
      "text/html": [
       "<div>\n",
       "<style scoped>\n",
       "    .dataframe tbody tr th:only-of-type {\n",
       "        vertical-align: middle;\n",
       "    }\n",
       "\n",
       "    .dataframe tbody tr th {\n",
       "        vertical-align: top;\n",
       "    }\n",
       "\n",
       "    .dataframe thead th {\n",
       "        text-align: right;\n",
       "    }\n",
       "</style>\n",
       "<table border=\"1\" class=\"dataframe\">\n",
       "  <thead>\n",
       "    <tr style=\"text-align: right;\">\n",
       "      <th></th>\n",
       "      <th>S1_ID</th>\n",
       "      <th>S2_ID</th>\n",
       "      <th>S3_ID</th>\n",
       "      <th>S4_ID</th>\n",
       "      <th>S5_ST_ID</th>\n",
       "      <th>S5_ID</th>\n",
       "      <th>S6_ST_ID</th>\n",
       "      <th>D2T_ID</th>\n",
       "      <th>D4T_ID</th>\n",
       "      <th>D5T_ID</th>\n",
       "      <th>...</th>\n",
       "      <th>C7CPTS81</th>\n",
       "      <th>C7CPTS82</th>\n",
       "      <th>C7CPTS83</th>\n",
       "      <th>C7CPTS84</th>\n",
       "      <th>C7CPTS85</th>\n",
       "      <th>C7CPTS86</th>\n",
       "      <th>C7CPTS87</th>\n",
       "      <th>C7CPTS88</th>\n",
       "      <th>C7CPTS89</th>\n",
       "      <th>C7CPTS90</th>\n",
       "    </tr>\n",
       "  </thead>\n",
       "  <tbody>\n",
       "    <tr>\n",
       "      <th>0</th>\n",
       "      <td>1.0</td>\n",
       "      <td>1.0</td>\n",
       "      <td>NaN</td>\n",
       "      <td>2.0</td>\n",
       "      <td>NaN</td>\n",
       "      <td>NaN</td>\n",
       "      <td>NaN</td>\n",
       "      <td>NaN</td>\n",
       "      <td>-2.0</td>\n",
       "      <td>NaN</td>\n",
       "      <td>...</td>\n",
       "      <td>NaN</td>\n",
       "      <td>NaN</td>\n",
       "      <td>NaN</td>\n",
       "      <td>NaN</td>\n",
       "      <td>NaN</td>\n",
       "      <td>NaN</td>\n",
       "      <td>NaN</td>\n",
       "      <td>NaN</td>\n",
       "      <td>NaN</td>\n",
       "      <td>NaN</td>\n",
       "    </tr>\n",
       "    <tr>\n",
       "      <th>1</th>\n",
       "      <td>1.0</td>\n",
       "      <td>1.0</td>\n",
       "      <td>NaN</td>\n",
       "      <td>6005.0</td>\n",
       "      <td>6005.0</td>\n",
       "      <td>6005.0</td>\n",
       "      <td>6005.0</td>\n",
       "      <td>NaN</td>\n",
       "      <td>-2.0</td>\n",
       "      <td>-2.0</td>\n",
       "      <td>...</td>\n",
       "      <td>2704.86</td>\n",
       "      <td>2681.98</td>\n",
       "      <td>2700.63</td>\n",
       "      <td>2697.53</td>\n",
       "      <td>2692.50</td>\n",
       "      <td>2665.01</td>\n",
       "      <td>2844.28</td>\n",
       "      <td>2665.86</td>\n",
       "      <td>2764.51</td>\n",
       "      <td>2720.46</td>\n",
       "    </tr>\n",
       "    <tr>\n",
       "      <th>2</th>\n",
       "      <td>1.0</td>\n",
       "      <td>1.0</td>\n",
       "      <td>NaN</td>\n",
       "      <td>9997.0</td>\n",
       "      <td>9997.0</td>\n",
       "      <td>9997.0</td>\n",
       "      <td>NaN</td>\n",
       "      <td>NaN</td>\n",
       "      <td>-2.0</td>\n",
       "      <td>-2.0</td>\n",
       "      <td>...</td>\n",
       "      <td>NaN</td>\n",
       "      <td>NaN</td>\n",
       "      <td>NaN</td>\n",
       "      <td>NaN</td>\n",
       "      <td>NaN</td>\n",
       "      <td>NaN</td>\n",
       "      <td>NaN</td>\n",
       "      <td>NaN</td>\n",
       "      <td>NaN</td>\n",
       "      <td>NaN</td>\n",
       "    </tr>\n",
       "    <tr>\n",
       "      <th>3</th>\n",
       "      <td>1.0</td>\n",
       "      <td>1.0</td>\n",
       "      <td>NaN</td>\n",
       "      <td>6009.0</td>\n",
       "      <td>6009.0</td>\n",
       "      <td>6009.0</td>\n",
       "      <td>NaN</td>\n",
       "      <td>NaN</td>\n",
       "      <td>-2.0</td>\n",
       "      <td>-2.0</td>\n",
       "      <td>...</td>\n",
       "      <td>NaN</td>\n",
       "      <td>NaN</td>\n",
       "      <td>NaN</td>\n",
       "      <td>NaN</td>\n",
       "      <td>NaN</td>\n",
       "      <td>NaN</td>\n",
       "      <td>NaN</td>\n",
       "      <td>NaN</td>\n",
       "      <td>NaN</td>\n",
       "      <td>NaN</td>\n",
       "    </tr>\n",
       "    <tr>\n",
       "      <th>4</th>\n",
       "      <td>1.0</td>\n",
       "      <td>1.0</td>\n",
       "      <td>NaN</td>\n",
       "      <td>3.0</td>\n",
       "      <td>7197.0</td>\n",
       "      <td>7197.0</td>\n",
       "      <td>NaN</td>\n",
       "      <td>NaN</td>\n",
       "      <td>-2.0</td>\n",
       "      <td>-2.0</td>\n",
       "      <td>...</td>\n",
       "      <td>NaN</td>\n",
       "      <td>NaN</td>\n",
       "      <td>NaN</td>\n",
       "      <td>NaN</td>\n",
       "      <td>NaN</td>\n",
       "      <td>NaN</td>\n",
       "      <td>NaN</td>\n",
       "      <td>NaN</td>\n",
       "      <td>NaN</td>\n",
       "      <td>NaN</td>\n",
       "    </tr>\n",
       "    <tr>\n",
       "      <th>...</th>\n",
       "      <td>...</td>\n",
       "      <td>...</td>\n",
       "      <td>...</td>\n",
       "      <td>...</td>\n",
       "      <td>...</td>\n",
       "      <td>...</td>\n",
       "      <td>...</td>\n",
       "      <td>...</td>\n",
       "      <td>...</td>\n",
       "      <td>...</td>\n",
       "      <td>...</td>\n",
       "      <td>...</td>\n",
       "      <td>...</td>\n",
       "      <td>...</td>\n",
       "      <td>...</td>\n",
       "      <td>...</td>\n",
       "      <td>...</td>\n",
       "      <td>...</td>\n",
       "      <td>...</td>\n",
       "      <td>...</td>\n",
       "      <td>...</td>\n",
       "    </tr>\n",
       "    <tr>\n",
       "      <th>21404</th>\n",
       "      <td>3116.0</td>\n",
       "      <td>3116.0</td>\n",
       "      <td>NaN</td>\n",
       "      <td>3116.0</td>\n",
       "      <td>7294.0</td>\n",
       "      <td>7294.0</td>\n",
       "      <td>7294.0</td>\n",
       "      <td>-2.0</td>\n",
       "      <td>-2.0</td>\n",
       "      <td>-2.0</td>\n",
       "      <td>...</td>\n",
       "      <td>NaN</td>\n",
       "      <td>NaN</td>\n",
       "      <td>NaN</td>\n",
       "      <td>NaN</td>\n",
       "      <td>NaN</td>\n",
       "      <td>NaN</td>\n",
       "      <td>NaN</td>\n",
       "      <td>NaN</td>\n",
       "      <td>NaN</td>\n",
       "      <td>NaN</td>\n",
       "    </tr>\n",
       "    <tr>\n",
       "      <th>21405</th>\n",
       "      <td>NaN</td>\n",
       "      <td>NaN</td>\n",
       "      <td>NaN</td>\n",
       "      <td>5213.0</td>\n",
       "      <td>NaN</td>\n",
       "      <td>NaN</td>\n",
       "      <td>NaN</td>\n",
       "      <td>NaN</td>\n",
       "      <td>-2.0</td>\n",
       "      <td>NaN</td>\n",
       "      <td>...</td>\n",
       "      <td>NaN</td>\n",
       "      <td>NaN</td>\n",
       "      <td>NaN</td>\n",
       "      <td>NaN</td>\n",
       "      <td>NaN</td>\n",
       "      <td>NaN</td>\n",
       "      <td>NaN</td>\n",
       "      <td>NaN</td>\n",
       "      <td>NaN</td>\n",
       "      <td>NaN</td>\n",
       "    </tr>\n",
       "    <tr>\n",
       "      <th>21406</th>\n",
       "      <td>NaN</td>\n",
       "      <td>NaN</td>\n",
       "      <td>NaN</td>\n",
       "      <td>5245.0</td>\n",
       "      <td>5245.0</td>\n",
       "      <td>5245.0</td>\n",
       "      <td>NaN</td>\n",
       "      <td>NaN</td>\n",
       "      <td>-2.0</td>\n",
       "      <td>-2.0</td>\n",
       "      <td>...</td>\n",
       "      <td>NaN</td>\n",
       "      <td>NaN</td>\n",
       "      <td>NaN</td>\n",
       "      <td>NaN</td>\n",
       "      <td>NaN</td>\n",
       "      <td>NaN</td>\n",
       "      <td>NaN</td>\n",
       "      <td>NaN</td>\n",
       "      <td>NaN</td>\n",
       "      <td>NaN</td>\n",
       "    </tr>\n",
       "    <tr>\n",
       "      <th>21407</th>\n",
       "      <td>NaN</td>\n",
       "      <td>NaN</td>\n",
       "      <td>NaN</td>\n",
       "      <td>5245.0</td>\n",
       "      <td>5245.0</td>\n",
       "      <td>5245.0</td>\n",
       "      <td>5245.0</td>\n",
       "      <td>NaN</td>\n",
       "      <td>-2.0</td>\n",
       "      <td>-2.0</td>\n",
       "      <td>...</td>\n",
       "      <td>0.00</td>\n",
       "      <td>0.00</td>\n",
       "      <td>0.00</td>\n",
       "      <td>0.00</td>\n",
       "      <td>0.00</td>\n",
       "      <td>0.00</td>\n",
       "      <td>0.00</td>\n",
       "      <td>0.00</td>\n",
       "      <td>0.00</td>\n",
       "      <td>0.00</td>\n",
       "    </tr>\n",
       "    <tr>\n",
       "      <th>21408</th>\n",
       "      <td>NaN</td>\n",
       "      <td>NaN</td>\n",
       "      <td>NaN</td>\n",
       "      <td>5245.0</td>\n",
       "      <td>5245.0</td>\n",
       "      <td>5245.0</td>\n",
       "      <td>5245.0</td>\n",
       "      <td>NaN</td>\n",
       "      <td>-2.0</td>\n",
       "      <td>-2.0</td>\n",
       "      <td>...</td>\n",
       "      <td>4180.85</td>\n",
       "      <td>4120.55</td>\n",
       "      <td>3982.06</td>\n",
       "      <td>4117.00</td>\n",
       "      <td>3376.18</td>\n",
       "      <td>3864.04</td>\n",
       "      <td>3884.41</td>\n",
       "      <td>4266.26</td>\n",
       "      <td>4063.49</td>\n",
       "      <td>4155.80</td>\n",
       "    </tr>\n",
       "  </tbody>\n",
       "</table>\n",
       "<p>21409 rows × 18889 columns</p>\n",
       "</div>"
      ],
      "text/plain": [
       "        S1_ID   S2_ID  S3_ID   S4_ID  S5_ST_ID   S5_ID  S6_ST_ID  D2T_ID  \\\n",
       "0         1.0     1.0    NaN     2.0       NaN     NaN       NaN     NaN   \n",
       "1         1.0     1.0    NaN  6005.0    6005.0  6005.0    6005.0     NaN   \n",
       "2         1.0     1.0    NaN  9997.0    9997.0  9997.0       NaN     NaN   \n",
       "3         1.0     1.0    NaN  6009.0    6009.0  6009.0       NaN     NaN   \n",
       "4         1.0     1.0    NaN     3.0    7197.0  7197.0       NaN     NaN   \n",
       "...       ...     ...    ...     ...       ...     ...       ...     ...   \n",
       "21404  3116.0  3116.0    NaN  3116.0    7294.0  7294.0    7294.0    -2.0   \n",
       "21405     NaN     NaN    NaN  5213.0       NaN     NaN       NaN     NaN   \n",
       "21406     NaN     NaN    NaN  5245.0    5245.0  5245.0       NaN     NaN   \n",
       "21407     NaN     NaN    NaN  5245.0    5245.0  5245.0    5245.0     NaN   \n",
       "21408     NaN     NaN    NaN  5245.0    5245.0  5245.0    5245.0     NaN   \n",
       "\n",
       "       D4T_ID  D5T_ID  ...  C7CPTS81  C7CPTS82  C7CPTS83  C7CPTS84  C7CPTS85  \\\n",
       "0        -2.0     NaN  ...       NaN       NaN       NaN       NaN       NaN   \n",
       "1        -2.0    -2.0  ...   2704.86   2681.98   2700.63   2697.53   2692.50   \n",
       "2        -2.0    -2.0  ...       NaN       NaN       NaN       NaN       NaN   \n",
       "3        -2.0    -2.0  ...       NaN       NaN       NaN       NaN       NaN   \n",
       "4        -2.0    -2.0  ...       NaN       NaN       NaN       NaN       NaN   \n",
       "...       ...     ...  ...       ...       ...       ...       ...       ...   \n",
       "21404    -2.0    -2.0  ...       NaN       NaN       NaN       NaN       NaN   \n",
       "21405    -2.0     NaN  ...       NaN       NaN       NaN       NaN       NaN   \n",
       "21406    -2.0    -2.0  ...       NaN       NaN       NaN       NaN       NaN   \n",
       "21407    -2.0    -2.0  ...      0.00      0.00      0.00      0.00      0.00   \n",
       "21408    -2.0    -2.0  ...   4180.85   4120.55   3982.06   4117.00   3376.18   \n",
       "\n",
       "       C7CPTS86  C7CPTS87  C7CPTS88  C7CPTS89  C7CPTS90  \n",
       "0           NaN       NaN       NaN       NaN       NaN  \n",
       "1       2665.01   2844.28   2665.86   2764.51   2720.46  \n",
       "2           NaN       NaN       NaN       NaN       NaN  \n",
       "3           NaN       NaN       NaN       NaN       NaN  \n",
       "4           NaN       NaN       NaN       NaN       NaN  \n",
       "...         ...       ...       ...       ...       ...  \n",
       "21404       NaN       NaN       NaN       NaN       NaN  \n",
       "21405       NaN       NaN       NaN       NaN       NaN  \n",
       "21406       NaN       NaN       NaN       NaN       NaN  \n",
       "21407      0.00      0.00      0.00      0.00      0.00  \n",
       "21408   3864.04   3884.41   4266.26   4063.49   4155.80  \n",
       "\n",
       "[21409 rows x 18889 columns]"
      ]
     },
     "execution_count": 7,
     "metadata": {},
     "output_type": "execute_result"
    }
   ],
   "source": [
    "new_dataset"
   ]
  },
  {
   "cell_type": "markdown",
   "id": "f3a5d665",
   "metadata": {},
   "source": [
    "### Finding correlation"
   ]
  },
  {
   "cell_type": "code",
   "execution_count": 8,
   "id": "82f8dde4",
   "metadata": {},
   "outputs": [],
   "source": [
    "def find_correlation(df, column_name):\n",
    "    df_column = df[column_name]\n",
    "    correlation_dict = {}\n",
    "    \n",
    "    for col in new_dataset.columns:\n",
    "        current_column = new_dataset[col]\n",
    "        correlation = df_column.corr(current_column)\n",
    "        correlation_dict[col] = correlation_dict.get(col, correlation)\n",
    "    \n",
    "    correlation_df = pd.DataFrame.from_dict(correlation_dict, orient='index')\n",
    "    return correlation_df"
   ]
  },
  {
   "cell_type": "code",
   "execution_count": 9,
   "id": "19afe00b",
   "metadata": {},
   "outputs": [],
   "source": [
    "def find_highest_correlation(df):\n",
    "    result_df = df.copy()\n",
    "    result_df = result_df.T\n",
    "    \n",
    "    result_df = result_df.iloc[:, (df >= 0.2).to_numpy()]\n",
    "    \n",
    "    return result_df.round(3)"
   ]
  },
  {
   "cell_type": "code",
   "execution_count": 10,
   "id": "a6a87d08",
   "metadata": {},
   "outputs": [],
   "source": [
    "C6_Math_corr = find_correlation(new_dataset, 'C6R4MPF')\n",
    "C7_Math_corr = find_correlation(new_dataset, 'C7R4MPF')"
   ]
  },
  {
   "cell_type": "code",
   "execution_count": 11,
   "id": "b5957f9b",
   "metadata": {},
   "outputs": [],
   "source": [
    "C6_Math_corr = find_highest_correlation(C6_Math_corr)\n",
    "C7_Math_corr = find_highest_correlation(C7_Math_corr)"
   ]
  },
  {
   "cell_type": "code",
   "execution_count": 12,
   "id": "546bffd5",
   "metadata": {},
   "outputs": [
    {
     "data": {
      "text/html": [
       "<div>\n",
       "<style scoped>\n",
       "    .dataframe tbody tr th:only-of-type {\n",
       "        vertical-align: middle;\n",
       "    }\n",
       "\n",
       "    .dataframe tbody tr th {\n",
       "        vertical-align: top;\n",
       "    }\n",
       "\n",
       "    .dataframe thead th {\n",
       "        text-align: right;\n",
       "    }\n",
       "</style>\n",
       "<table border=\"1\" class=\"dataframe\">\n",
       "  <thead>\n",
       "    <tr style=\"text-align: right;\">\n",
       "      <th></th>\n",
       "      <th>C1R4MNOR</th>\n",
       "      <th>C1R4MSCL</th>\n",
       "      <th>C2R4MNOR</th>\n",
       "      <th>C2R4MSCL</th>\n",
       "      <th>C2R4MTSC</th>\n",
       "      <th>C2R4MPB3</th>\n",
       "      <th>C3R4MNOR</th>\n",
       "      <th>C3R4MSCL</th>\n",
       "      <th>C3R4MTSC</th>\n",
       "      <th>C4R4RSCL</th>\n",
       "      <th>...</th>\n",
       "      <th>T4KEXPLN</th>\n",
       "      <th>T4KCLSSF</th>\n",
       "      <th>T4KSORTS</th>\n",
       "      <th>T4KORDER</th>\n",
       "      <th>T4KRELAT</th>\n",
       "      <th>T4KSOLVE</th>\n",
       "      <th>T4KGRAPH</th>\n",
       "      <th>T4KMEASU</th>\n",
       "      <th>T4KSTRAT</th>\n",
       "      <th>T4KTTRMT</th>\n",
       "    </tr>\n",
       "  </thead>\n",
       "  <tbody>\n",
       "    <tr>\n",
       "      <th>0</th>\n",
       "      <td>0.23</td>\n",
       "      <td>0.221</td>\n",
       "      <td>0.233</td>\n",
       "      <td>0.236</td>\n",
       "      <td>0.225</td>\n",
       "      <td>0.209</td>\n",
       "      <td>0.241</td>\n",
       "      <td>0.248</td>\n",
       "      <td>0.234</td>\n",
       "      <td>0.208</td>\n",
       "      <td>...</td>\n",
       "      <td>0.275</td>\n",
       "      <td>0.312</td>\n",
       "      <td>0.306</td>\n",
       "      <td>0.294</td>\n",
       "      <td>0.28</td>\n",
       "      <td>0.253</td>\n",
       "      <td>0.309</td>\n",
       "      <td>0.219</td>\n",
       "      <td>0.293</td>\n",
       "      <td>0.263</td>\n",
       "    </tr>\n",
       "  </tbody>\n",
       "</table>\n",
       "<p>1 rows × 75 columns</p>\n",
       "</div>"
      ],
      "text/plain": [
       "   C1R4MNOR  C1R4MSCL  C2R4MNOR  C2R4MSCL  C2R4MTSC  C2R4MPB3  C3R4MNOR  \\\n",
       "0      0.23     0.221     0.233     0.236     0.225     0.209     0.241   \n",
       "\n",
       "   C3R4MSCL  C3R4MTSC  C4R4RSCL  ...  T4KEXPLN  T4KCLSSF  T4KSORTS  T4KORDER  \\\n",
       "0     0.248     0.234     0.208  ...     0.275     0.312     0.306     0.294   \n",
       "\n",
       "   T4KRELAT  T4KSOLVE  T4KGRAPH  T4KMEASU  T4KSTRAT  T4KTTRMT  \n",
       "0      0.28     0.253     0.309     0.219     0.293     0.263  \n",
       "\n",
       "[1 rows x 75 columns]"
      ]
     },
     "execution_count": 12,
     "metadata": {},
     "output_type": "execute_result"
    }
   ],
   "source": [
    "C6_Math_corr"
   ]
  },
  {
   "cell_type": "code",
   "execution_count": 13,
   "id": "19d63946",
   "metadata": {},
   "outputs": [
    {
     "data": {
      "text/html": [
       "<div>\n",
       "<style scoped>\n",
       "    .dataframe tbody tr th:only-of-type {\n",
       "        vertical-align: middle;\n",
       "    }\n",
       "\n",
       "    .dataframe tbody tr th {\n",
       "        vertical-align: top;\n",
       "    }\n",
       "\n",
       "    .dataframe thead th {\n",
       "        text-align: right;\n",
       "    }\n",
       "</style>\n",
       "<table border=\"1\" class=\"dataframe\">\n",
       "  <thead>\n",
       "    <tr style=\"text-align: right;\">\n",
       "      <th></th>\n",
       "      <th>C3R4MNOR</th>\n",
       "      <th>C3R4MSCL</th>\n",
       "      <th>C3R4MTSC</th>\n",
       "      <th>C5R4MSCL</th>\n",
       "      <th>C5R4MTSC</th>\n",
       "      <th>C6R4MNR5</th>\n",
       "      <th>C6R4MSCL</th>\n",
       "      <th>C6R4MTSC</th>\n",
       "      <th>C7R4MNR8</th>\n",
       "      <th>C7R4MSCL</th>\n",
       "      <th>...</th>\n",
       "      <th>C7R4MPB4</th>\n",
       "      <th>C7R4MPB5</th>\n",
       "      <th>C7R4MPB6</th>\n",
       "      <th>C7R4MPB7</th>\n",
       "      <th>C7R4MPB8</th>\n",
       "      <th>C7R4MPB9</th>\n",
       "      <th>C7R4MSET</th>\n",
       "      <th>C7MTHFLG</th>\n",
       "      <th>A4KMINMT</th>\n",
       "      <th>A4KSUPPO</th>\n",
       "    </tr>\n",
       "  </thead>\n",
       "  <tbody>\n",
       "    <tr>\n",
       "      <th>0</th>\n",
       "      <td>0.219</td>\n",
       "      <td>0.224</td>\n",
       "      <td>0.221</td>\n",
       "      <td>0.21</td>\n",
       "      <td>0.21</td>\n",
       "      <td>0.212</td>\n",
       "      <td>0.226</td>\n",
       "      <td>0.23</td>\n",
       "      <td>0.235</td>\n",
       "      <td>0.324</td>\n",
       "      <td>...</td>\n",
       "      <td>0.24</td>\n",
       "      <td>0.255</td>\n",
       "      <td>0.292</td>\n",
       "      <td>0.321</td>\n",
       "      <td>0.335</td>\n",
       "      <td>0.371</td>\n",
       "      <td>0.243</td>\n",
       "      <td>0.24</td>\n",
       "      <td>0.204</td>\n",
       "      <td>0.218</td>\n",
       "    </tr>\n",
       "  </tbody>\n",
       "</table>\n",
       "<p>1 rows × 25 columns</p>\n",
       "</div>"
      ],
      "text/plain": [
       "   C3R4MNOR  C3R4MSCL  C3R4MTSC  C5R4MSCL  C5R4MTSC  C6R4MNR5  C6R4MSCL  \\\n",
       "0     0.219     0.224     0.221      0.21      0.21     0.212     0.226   \n",
       "\n",
       "   C6R4MTSC  C7R4MNR8  C7R4MSCL  ...  C7R4MPB4  C7R4MPB5  C7R4MPB6  C7R4MPB7  \\\n",
       "0      0.23     0.235     0.324  ...      0.24     0.255     0.292     0.321   \n",
       "\n",
       "   C7R4MPB8  C7R4MPB9  C7R4MSET  C7MTHFLG  A4KMINMT  A4KSUPPO  \n",
       "0     0.335     0.371     0.243      0.24     0.204     0.218  \n",
       "\n",
       "[1 rows x 25 columns]"
      ]
     },
     "execution_count": 13,
     "metadata": {},
     "output_type": "execute_result"
    }
   ],
   "source": [
    "C7_Math_corr"
   ]
  },
  {
   "cell_type": "markdown",
   "id": "ad0c2762",
   "metadata": {},
   "source": [
    "### Remove the columns with the most NA values"
   ]
  },
  {
   "cell_type": "code",
   "execution_count": 14,
   "id": "e368aa2c",
   "metadata": {},
   "outputs": [],
   "source": [
    "# def remove_highest_empties(df):\n",
    "#     half_of_df = len(df) / 2\n",
    "#     column_names = []\n",
    "    \n",
    "#     for column_name, _ in df.iteritems():\n",
    "#         if (df[column_name].isna().sum() > half_of_df):\n",
    "#             column_names.append(column_name)\n",
    "    \n",
    "#     df = df.drop(columns=column_names)\n",
    "#     return df"
   ]
  },
  {
   "cell_type": "code",
   "execution_count": 15,
   "id": "682bea59",
   "metadata": {
    "scrolled": false
   },
   "outputs": [],
   "source": [
    "# new_dataset = remove_highest_empties(new_dataset)\n",
    "# new_dataset"
   ]
  },
  {
   "cell_type": "markdown",
   "id": "88d087ee",
   "metadata": {},
   "source": [
    "### Remove the NA values from the Y-Variable"
   ]
  },
  {
   "cell_type": "markdown",
   "id": "ea37f8b6",
   "metadata": {},
   "source": [
    "##### Using 8th grade Math Scores as the Y-variable"
   ]
  },
  {
   "cell_type": "code",
   "execution_count": 16,
   "id": "9438613e",
   "metadata": {
    "scrolled": false
   },
   "outputs": [],
   "source": [
    "# clean_df = new_dataset.copy().dropna(subset=[\"C6R4MPF\"])\n",
    "# clean_df"
   ]
  },
  {
   "cell_type": "markdown",
   "id": "f0740d44",
   "metadata": {},
   "source": [
    "### Remove the variable relating to 5th Grade and Above"
   ]
  },
  {
   "cell_type": "code",
   "execution_count": 17,
   "id": "cf20acae",
   "metadata": {},
   "outputs": [],
   "source": [
    "# def remove_unusable_variables(df):\n",
    "#     unusable_columns = []\n",
    "    \n",
    "#     for column_name, _ in df.iteritems():\n",
    "#         if ('5' in column_name) or ('6' in column_name) or ('7' in column_name) or ('8' in column_name):\n",
    "#             if (column_name != 'C6R4MPF'):\n",
    "#                 unusable_columns.append(column_name)\n",
    "    \n",
    "#     df = df.drop(columns=unusable_columns)\n",
    "#     return df"
   ]
  },
  {
   "cell_type": "code",
   "execution_count": 18,
   "id": "8f17ddc6",
   "metadata": {
    "scrolled": false
   },
   "outputs": [],
   "source": [
    "# clean_df = remove_unusable_variables(clean_df)\n",
    "# clean_df"
   ]
  },
  {
   "cell_type": "markdown",
   "id": "78073d97",
   "metadata": {},
   "source": [
    "### Determining the Correlation Between Values"
   ]
  },
  {
   "cell_type": "code",
   "execution_count": 19,
   "id": "3029333f",
   "metadata": {},
   "outputs": [],
   "source": [
    "# def find_correlation(df):\n",
    "#     return df.corr()\n",
    "# find the correlation between every column and the test column"
   ]
  },
  {
   "cell_type": "code",
   "execution_count": 20,
   "id": "d0888616",
   "metadata": {
    "scrolled": true
   },
   "outputs": [],
   "source": [
    "# corr_dict = find_correlation(clean_df)\n",
    "# corr_dict"
   ]
  },
  {
   "cell_type": "code",
   "execution_count": 21,
   "id": "c719eaa9",
   "metadata": {},
   "outputs": [],
   "source": [
    "# mask = (corr_dict['C6R4MPF'] > 0.3)\n",
    "# mask"
   ]
  },
  {
   "cell_type": "code",
   "execution_count": 22,
   "id": "4ad7c914",
   "metadata": {
    "scrolled": true
   },
   "outputs": [],
   "source": [
    "# corr_dict['C6R4MPF'][mask]"
   ]
  },
  {
   "cell_type": "code",
   "execution_count": 23,
   "id": "bd6d06ce",
   "metadata": {},
   "outputs": [],
   "source": [
    "# corr_dict['C6R4MPF'].loc[((corr_dict['C6R4MPF'] > 0.3) | (corr_dict['C6R4MPF'] < -0.3))] # || < -0.8"
   ]
  },
  {
   "cell_type": "code",
   "execution_count": 24,
   "id": "088309b6",
   "metadata": {},
   "outputs": [],
   "source": [
    "# mask.index.values"
   ]
  },
  {
   "cell_type": "code",
   "execution_count": 25,
   "id": "52376a35",
   "metadata": {},
   "outputs": [],
   "source": [
    "# def find_covariance(df):\n",
    "#     return df.cov()"
   ]
  },
  {
   "cell_type": "code",
   "execution_count": 26,
   "id": "1a9deec1",
   "metadata": {},
   "outputs": [],
   "source": [
    "# cov_df = find_covariance(clean_df)\n",
    "# cov_df"
   ]
  },
  {
   "cell_type": "markdown",
   "id": "682dfc1b",
   "metadata": {},
   "source": [
    "## Creating a new dataset with the columns we're using"
   ]
  },
  {
   "cell_type": "code",
   "execution_count": 27,
   "id": "565f7ae9",
   "metadata": {},
   "outputs": [],
   "source": [
    "# dataset = original_dataset[[\"P4CMPEDU\",\"P5CMPEDU\",\"P6CMPEDU\",\"C4R4MPF\",\"C5R4MPF\",\"W1INCCAT\",\"W5INCCAT\",\"W8INCCAT\",\"WKMOMED\",\"WKDADED\",\"P1HMEMP\",\"P1HDEMP\",\"P7HMEMP\",\"P7HDEMP\",\"C6R4MPF\"]]"
   ]
  },
  {
   "cell_type": "code",
   "execution_count": 28,
   "id": "1c9e9d0b",
   "metadata": {},
   "outputs": [],
   "source": [
    "# dataset = clean_df.copy()"
   ]
  },
  {
   "cell_type": "code",
   "execution_count": 29,
   "id": "74b9a26f",
   "metadata": {
    "scrolled": true
   },
   "outputs": [],
   "source": [
    "# dataset.shape"
   ]
  },
  {
   "cell_type": "code",
   "execution_count": 30,
   "id": "ea3a95af",
   "metadata": {},
   "outputs": [],
   "source": [
    "# Number of Non-NA values in each column\n",
    "# dataset.count()"
   ]
  },
  {
   "cell_type": "code",
   "execution_count": 31,
   "id": "d14995fc",
   "metadata": {
    "scrolled": true
   },
   "outputs": [],
   "source": [
    "# Number of NA values in each column\n",
    "# dataset.isna().sum()"
   ]
  },
  {
   "cell_type": "code",
   "execution_count": 32,
   "id": "90754980",
   "metadata": {},
   "outputs": [],
   "source": [
    "# dataset.groupby('C6R4MPF').size()"
   ]
  },
  {
   "cell_type": "code",
   "execution_count": 33,
   "id": "38c3f7a6",
   "metadata": {},
   "outputs": [],
   "source": [
    "# cleandf=dataset.copy().dropna(subset=[\"C6R4MPF\"])"
   ]
  },
  {
   "cell_type": "code",
   "execution_count": 34,
   "id": "0b4a465c",
   "metadata": {},
   "outputs": [],
   "source": [
    "# cleandf.shape"
   ]
  },
  {
   "cell_type": "code",
   "execution_count": 35,
   "id": "781b6820",
   "metadata": {
    "scrolled": true
   },
   "outputs": [],
   "source": [
    "# cleandf.isna().sum()"
   ]
  },
  {
   "cell_type": "code",
   "execution_count": 36,
   "id": "0f8a6088",
   "metadata": {},
   "outputs": [],
   "source": [
    "# print(cleandf.groupby('C6R4MPF').size())"
   ]
  },
  {
   "cell_type": "code",
   "execution_count": 37,
   "id": "5219b2b1",
   "metadata": {},
   "outputs": [],
   "source": [
    "# dataset= cleandf[cleandf[\"C6R4MPF\"]>\"4\"]\n",
    "# print(dataset.groupby('C6R4MPF').size())"
   ]
  },
  {
   "cell_type": "code",
   "execution_count": 38,
   "id": "18d89bb2",
   "metadata": {
    "scrolled": true
   },
   "outputs": [],
   "source": [
    "# dataset.shape"
   ]
  },
  {
   "cell_type": "code",
   "execution_count": 39,
   "id": "f67f4e2c",
   "metadata": {
    "scrolled": true
   },
   "outputs": [],
   "source": [
    "# Group some categories together\n",
    "# conditions = [\n",
    "#     (dataset['C6R4MPF'] >= \"5.0\") & (dataset['C6R4MPF'] < \"7.0\"),\n",
    "#     (dataset['C6R4MPF'] >= \"7.0\")& (dataset['C6R4MPF'] <= \"9.0\")]\n",
    "# choices = ['C - Low', 'A - High']\n",
    "# scores = np.select(conditions, choices)\n",
    "# dataset.loc[:, ('Score')] = scores\n",
    "# dataset"
   ]
  },
  {
   "cell_type": "code",
   "execution_count": 40,
   "id": "14080eb5",
   "metadata": {},
   "outputs": [],
   "source": [
    "#remove the C6R4MPF column, now that we have the 'Score' category \n",
    "# dataset=dataset.drop('C6R4MPF',1)\n",
    "# dataset.head()"
   ]
  },
  {
   "cell_type": "code",
   "execution_count": 41,
   "id": "62f0832d",
   "metadata": {
    "scrolled": true
   },
   "outputs": [],
   "source": [
    "# print(dataset.groupby('Score').size())"
   ]
  },
  {
   "cell_type": "code",
   "execution_count": 42,
   "id": "4ed19f27",
   "metadata": {},
   "outputs": [],
   "source": [
    "# dataset2=dataset[dataset['Score']=='A - High'].copy()"
   ]
  },
  {
   "cell_type": "code",
   "execution_count": 43,
   "id": "fb7c555b",
   "metadata": {},
   "outputs": [],
   "source": [
    "# dataset2=dataset2.append(dataset[dataset['Score']=='C - Low'].sample(n=4777))"
   ]
  },
  {
   "cell_type": "code",
   "execution_count": 44,
   "id": "9b93718e",
   "metadata": {},
   "outputs": [],
   "source": [
    "# print(dataset2.groupby('Score').size())"
   ]
  },
  {
   "cell_type": "code",
   "execution_count": 45,
   "id": "a22fc369",
   "metadata": {},
   "outputs": [],
   "source": [
    "# print(dataset2.groupby('Score').size())"
   ]
  },
  {
   "cell_type": "code",
   "execution_count": 46,
   "id": "508870a6",
   "metadata": {},
   "outputs": [],
   "source": [
    "# sample_size = math.floor(0.75*len(dataset2))\n",
    "# sample_size"
   ]
  },
  {
   "cell_type": "code",
   "execution_count": 47,
   "id": "fd32ee56",
   "metadata": {},
   "outputs": [],
   "source": [
    "# Creating our sample of random lines\n",
    "# traindf=dataset2.sample(n=sample_size)\n",
    "# #Listing what rows our sample is using\n",
    "# traindf.index"
   ]
  },
  {
   "cell_type": "code",
   "execution_count": 48,
   "id": "8818c377",
   "metadata": {},
   "outputs": [],
   "source": [
    "# Printing training dataset which imputation will be performed on\n",
    "# traindf"
   ]
  },
  {
   "cell_type": "code",
   "execution_count": 49,
   "id": "84bbab84",
   "metadata": {},
   "outputs": [],
   "source": [
    "# Defining our validation data as rows in dataset2 that are not in our training data\n",
    "# validationdf=dataset2.drop(traindf.index)\n",
    "# len(validationdf)"
   ]
  },
  {
   "cell_type": "code",
   "execution_count": 50,
   "id": "4bb01eec",
   "metadata": {},
   "outputs": [],
   "source": [
    "# taking out all NA's from validation dataset\n",
    "# validationdf=validationdf.dropna()\n",
    "# len(validationdf)"
   ]
  },
  {
   "cell_type": "code",
   "execution_count": 51,
   "id": "d545961c",
   "metadata": {},
   "outputs": [],
   "source": [
    "# Do imputation on ALL columns of TRAIN \n",
    "# X = traindf[[\"P4CMPEDU\",\"P5CMPEDU\",\"P6CMPEDU\",\"C4R4MPF\",\"C5R4MPF\",\"W1INCCAT\",\"W5INCCAT\",\"W8INCCAT\",\"WKMOMED\",\"WKDADED\",\"P1HMEMP\",\"P1HDEMP\",\"P7HMEMP\",\"P7HDEMP\"]]"
   ]
  },
  {
   "cell_type": "code",
   "execution_count": 52,
   "id": "9d8c7516",
   "metadata": {},
   "outputs": [],
   "source": [
    "# X"
   ]
  },
  {
   "cell_type": "code",
   "execution_count": 53,
   "id": "8fcf1975",
   "metadata": {},
   "outputs": [],
   "source": [
    "# data_imputed=pd.DataFrame(impIterative.fit_transform(X),columns=[\"P4CMPEDU\",\"P5CMPEDU\",\"P6CMPEDU\",\"C4R4MPF\",\"C5R4MPF\",\"W1INCCAT\",\"W5INCCAT\",\"W8INCCAT\",\"WKMOMED\",\"WKDADED\",\"P1HMEMP\",\"P1HDEMP\",\"P7HMEMP\",\"P7HDEMP\"])"
   ]
  },
  {
   "cell_type": "code",
   "execution_count": 54,
   "id": "dc1daab4",
   "metadata": {},
   "outputs": [],
   "source": [
    "# data_imputed"
   ]
  },
  {
   "cell_type": "code",
   "execution_count": 55,
   "id": "6d9f663a",
   "metadata": {},
   "outputs": [],
   "source": [
    "# len(data_imputed)"
   ]
  },
  {
   "cell_type": "code",
   "execution_count": 56,
   "id": "42a33d33",
   "metadata": {},
   "outputs": [],
   "source": [
    "#Create a new column in data_imputed that doesn't exist yet to tack on the y-variable\n",
    "# data_imputed[\"Score\"]=traindf['Score'].values"
   ]
  },
  {
   "cell_type": "code",
   "execution_count": 57,
   "id": "d430e83a",
   "metadata": {},
   "outputs": [],
   "source": [
    "# data_imputed"
   ]
  },
  {
   "cell_type": "code",
   "execution_count": 58,
   "id": "1e80bb9d",
   "metadata": {},
   "outputs": [],
   "source": [
    "# data_imputed.shape"
   ]
  },
  {
   "cell_type": "code",
   "execution_count": 59,
   "id": "08031111",
   "metadata": {},
   "outputs": [],
   "source": [
    "# print(data_imputed.groupby('Score').size())"
   ]
  },
  {
   "cell_type": "code",
   "execution_count": 60,
   "id": "7063aebb",
   "metadata": {},
   "outputs": [],
   "source": [
    "# Split-out train dataset\n",
    "# array = traindf.values\n",
    "# X_train = array[:,0:14]\n",
    "# Y_train= array[:,14]\n",
    "# X_train, X_validation, Y_train, Y_validation = train_test_split(X, y, test_size=0.20, random_state=1)"
   ]
  },
  {
   "cell_type": "code",
   "execution_count": 61,
   "id": "2b2edc30",
   "metadata": {},
   "outputs": [],
   "source": [
    "# Spot Check Algorithms\n",
    "# models = []\n",
    "# models.append(('LR', LogisticRegression(max_iter=10000, multi_class='multinomial')))\n",
    "# models.append(('LDA', LinearDiscriminantAnalysis()))\n",
    "# models.append(('KNN', KNeighborsClassifier(n_neighbors=5, p=2, metric='minkowski', weights='distance')))\n",
    "# models.append(('CART', DecisionTreeClassifier()))\n",
    "# models.append(('NB', GaussianNB()))\n",
    "# models.append(('SVM', SVC(gamma='scale')))\n",
    "# models.append(('RF', RandomForestClassifier(criterion='gini', n_estimators=10000, n_jobs=2)))"
   ]
  },
  {
   "cell_type": "code",
   "execution_count": 62,
   "id": "7704fb83",
   "metadata": {},
   "outputs": [],
   "source": [
    "# # evaluate each model in turn\n",
    "# results = []\n",
    "# names = []\n",
    "# for name, model in models:\n",
    "# \tkfold = StratifiedKFold(n_splits=7, random_state=1, shuffle=True)\n",
    "# \tcv_results = cross_val_score(model, X_train, Y_train, cv=kfold, scoring='accuracy')\n",
    "# \tresults.append(cv_results)\n",
    "# \tnames.append(name)\n",
    "# \tprint('%s: %f (%f)' % (name, cv_results.mean(), cv_results.std()))"
   ]
  },
  {
   "cell_type": "code",
   "execution_count": 63,
   "id": "fde8163b",
   "metadata": {},
   "outputs": [],
   "source": [
    "# #Set validation set\n",
    "# X_validation=validationdf.iloc[:,0:14]\n",
    "# Y_validation=validationdf.iloc[:,14]"
   ]
  },
  {
   "cell_type": "code",
   "execution_count": 64,
   "id": "cc07c926",
   "metadata": {},
   "outputs": [],
   "source": [
    "# # Make predictions on validation dataset with SVM\n",
    " \n",
    "# model = SVC(gamma='scale')\n",
    "# model.fit(X_train, Y_train)\n",
    "# predictions = model.predict(X_validation)"
   ]
  },
  {
   "cell_type": "code",
   "execution_count": 65,
   "id": "86b4b3b9",
   "metadata": {},
   "outputs": [],
   "source": [
    "# # Evaluate predictions\n",
    "# print(accuracy_score(Y_validation, predictions))\n",
    "# plot_confusion_matrix(model.fit(X_train, Y_train),X_validation,Y_validation,cmap=plt.cm.Blues)\n",
    "# print(classification_report(Y_validation, predictions))"
   ]
  },
  {
   "cell_type": "code",
   "execution_count": 66,
   "id": "a89f6b27",
   "metadata": {},
   "outputs": [],
   "source": [
    "# # Make predictions on validation dataset with RF\n",
    " \n",
    "# model2 = RandomForestClassifier(criterion='gini', n_estimators=10000, n_jobs=2)\n",
    "# model2.fit(X_train, Y_train)\n",
    "# predictions2 = model2.predict(X_validation)"
   ]
  },
  {
   "cell_type": "code",
   "execution_count": 67,
   "id": "1359c399",
   "metadata": {},
   "outputs": [],
   "source": [
    "# # Evaluate predictions\n",
    "# print(accuracy_score(Y_validation, predictions2))\n",
    "# plot_confusion_matrix(model2.fit(X_train, Y_train),X_validation,Y_validation,cmap=plt.cm.Blues)\n",
    "# print(classification_report(Y_validation, predictions2))"
   ]
  },
  {
   "cell_type": "code",
   "execution_count": 68,
   "id": "7884984c",
   "metadata": {},
   "outputs": [],
   "source": [
    "# feature_importance = model2.feature_importances_\n",
    "\n",
    "# sorted_idx = np.argsort(feature_importance)[::-1]\n",
    "# print(\"Feature Importance:\\n\")\n",
    "# for i in range(len(X.columns)):\n",
    "#     idx = sorted_idx[i]\n",
    "#     print(f'{X.columns[idx]:20} {feature_importance[idx]:.3f}')"
   ]
  },
  {
   "cell_type": "code",
   "execution_count": null,
   "id": "f9a87946",
   "metadata": {},
   "outputs": [],
   "source": []
  }
 ],
 "metadata": {
  "kernelspec": {
   "display_name": "Python 3 (ipykernel)",
   "language": "python",
   "name": "python3"
  },
  "language_info": {
   "codemirror_mode": {
    "name": "ipython",
    "version": 3
   },
   "file_extension": ".py",
   "mimetype": "text/x-python",
   "name": "python",
   "nbconvert_exporter": "python",
   "pygments_lexer": "ipython3",
   "version": "3.9.6"
  }
 },
 "nbformat": 4,
 "nbformat_minor": 5
}
